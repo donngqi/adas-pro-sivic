{
  "nbformat": 4,
  "nbformat_minor": 0,
  "metadata": {
    "colab": {
      "name": "compare_simulators.ipynb",
      "provenance": [],
      "collapsed_sections": [],
      "include_colab_link": true
    },
    "kernelspec": {
      "name": "python3",
      "display_name": "Python 3"
    }
  },
  "cells": [
    {
      "cell_type": "markdown",
      "metadata": {
        "id": "view-in-github",
        "colab_type": "text"
      },
      "source": [
        "<a href=\"https://colab.research.google.com/github/mrksbrg/adas-pro-sivic/blob/master/compare_simulators.ipynb\" target=\"_parent\"><img src=\"https://colab.research.google.com/assets/colab-badge.svg\" alt=\"Open In Colab\"/></a>"
      ]
    },
    {
      "cell_type": "markdown",
      "metadata": {
        "id": "0JCeSRMjniif",
        "colab_type": "text"
      },
      "source": [
        "Import some packages"
      ]
    },
    {
      "cell_type": "code",
      "metadata": {
        "id": "zL3vZ5w_m-Z8",
        "colab_type": "code",
        "colab": {}
      },
      "source": [
        "import os\n",
        "import statistics\n",
        "import csv\n",
        "import pandas as pd\n",
        "import numpy as np\n",
        "\n",
        "# Code to read csv file into Colaboratory:!pip install -U -q PyDrive\n",
        "from pydrive.auth import GoogleAuth\n",
        "from pydrive.drive import GoogleDrive\n",
        "from google.colab import auth\n",
        "from oauth2client.client import GoogleCredentials# Authenticate and create the PyDrive client.\n",
        "auth.authenticate_user()\n",
        "gauth = GoogleAuth()\n",
        "gauth.credentials = GoogleCredentials.get_application_default()\n",
        "drive = GoogleDrive(gauth)"
      ],
      "execution_count": 0,
      "outputs": []
    },
    {
      "cell_type": "markdown",
      "metadata": {
        "id": "tJOmqovCnpH8",
        "colab_type": "text"
      },
      "source": [
        "Load the results from PreScan and Pro-SiVIC. The results are available as public files in the shared Google Drive folder \"Lund-Lux Pro-SiVIC Collaboration/measurements/\""
      ]
    },
    {
      "cell_type": "code",
      "metadata": {
        "id": "6IAcdBo55Kh8",
        "colab_type": "code",
        "colab": {
          "base_uri": "https://localhost:8080/",
          "height": 316
        },
        "outputId": "141685fb-f160-4e13-cc3d-b0c7e9351944"
      },
      "source": [
        "# Load PreScan results\n",
        "id_prescan_file = '19Fx3OuZkKxCB_QtuGadRVLxDnEF5KsRd' \n",
        "tmp_file = drive.CreateFile({'id':id_prescan_file}) \n",
        "tmp_file.GetContentFile('prescan_file.csv')  \n",
        "df_prescan = pd.read_csv('prescan_file.csv')\n",
        "\n",
        "print(df_prescan.head())\n",
        "\n",
        "# Load Pro-SiVIC results\n",
        "id_prosivic_file = '1NpIlK25irb_ysQFPJi-yskCmfUK62MTx' \n",
        "tmp_file_2 = drive.CreateFile({'id':id_prosivic_file}) \n",
        "tmp_file_2.GetContentFile('prosivic_file.csv')  \n",
        "df_prosivic = pd.read_csv('prosivic_file.csv')\n",
        "\n",
        "print(df_prosivic.head())\n",
        "\n"
      ],
      "execution_count": 34,
      "outputs": [
        {
          "output_type": "stream",
          "text": [
            "         x0P        y0P       Th0P       v0P  ...       OF2       OF3  Det  Coll\n",
            "0  78.833717  41.544314  95.596676  2.386074  ...  0.039687  0.000000    0     1\n",
            "1  47.631107  40.821318  71.875117  2.926880  ...  0.088972  0.059656    1     1\n",
            "2  47.277510  40.785751  74.423795  2.944197  ...  0.059676  0.119659    1     1\n",
            "3  47.631107  40.821318  71.875117  2.926880  ...  0.088972  0.059656    1     1\n",
            "4  78.833717  41.544314  95.596676  2.386074  ...  0.039687  0.000000    0     1\n",
            "\n",
            "[5 rows x 10 columns]\n",
            "          x0P         y0P        Th0P       v0P  ...        OF3  det  col      conf\n",
            "0  273.866283  310.205686  -84.403324  2.386074  ...  23.576487  0.0  0.0  0.484848\n",
            "1  235.068893  310.928682 -108.124883  2.926880  ...   0.000000  1.0  0.0  0.121212\n",
            "2  235.422490  310.964249 -105.576205  2.944197  ...   0.000000  1.0  0.0  0.363636\n",
            "3  203.866283  310.205686  -84.403324  2.386074  ...   0.000000  1.0  0.0  0.151515\n",
            "4  235.593831  310.929852 -107.895518  2.947697  ...   0.000000  1.0  0.0  0.151515\n",
            "\n",
            "[5 rows x 11 columns]\n"
          ],
          "name": "stdout"
        }
      ]
    },
    {
      "cell_type": "code",
      "metadata": {
        "id": "jkEact44n24a",
        "colab_type": "code",
        "colab": {}
      },
      "source": [
        ""
      ],
      "execution_count": 0,
      "outputs": []
    }
  ]
}